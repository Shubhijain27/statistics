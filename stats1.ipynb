{
  "nbformat": 4,
  "nbformat_minor": 0,
  "metadata": {
    "colab": {
      "provenance": [],
      "authorship_tag": "ABX9TyOBI2QNV3Lk7Z0XUhu61Wju",
      "include_colab_link": true
    },
    "kernelspec": {
      "name": "python3",
      "display_name": "Python 3"
    },
    "language_info": {
      "name": "python"
    }
  },
  "cells": [
    {
      "cell_type": "markdown",
      "metadata": {
        "id": "view-in-github",
        "colab_type": "text"
      },
      "source": [
        "<a href=\"https://colab.research.google.com/github/Shubhijain27/statistics/blob/main/stats1.ipynb\" target=\"_parent\"><img src=\"https://colab.research.google.com/assets/colab-badge.svg\" alt=\"Open In Colab\"/></a>"
      ]
    },
    {
      "cell_type": "markdown",
      "source": [
        "1. Explain the different types of data (qualitative and quantitative) and provide examples of each. Discuss\n",
        "nominal, ordinal, interval, and ratio scales"
      ],
      "metadata": {
        "id": "8bjQDwCyVCbe"
      }
    },
    {
      "cell_type": "markdown",
      "source": [
        "The two main types of data are:\n",
        "\n",
        "Qualitative Data   - Nominal and ordinal\n",
        "\n",
        "Quantitative Data  - discrete and continuous\n",
        "\n",
        " 1 - **Qualitative or Categorical Data** is a type of data that can’t be\n",
        "measured or counted in the form of numbers.\n",
        "These types of data are sorted by category, not by number. That’s why it is also known as Categorical Data. These data consist of audio, images, symbols, or text. The gender of a person, i.e., male, female, or others, is qualitative data.\n",
        "\n",
        "**The Qualitative data are further classified into two parts : **\n",
        "\n",
        "Nominal Data  : Nominal Data is used to label variables without any order or quantitative value. The color of hair can be considered nominal data, as one color can’t be compared with another color.\n",
        "\n",
        "Examples of Nominal Data :\n",
        "Colour of hair (Blonde, red, Brown, Black, etc.)\n",
        "Marital status (Single, Widowed, Married)\n",
        "Nationality (Indian, German, American)\n",
        "Gender (Male, Female, Others)\n",
        "Eye Color (Black, Brown, etc.)\n",
        "\n",
        "\n",
        "Ordinal Data\n",
        "Ordinal data have natural ordering where a number is present in some kind of order by their position on the scale. These data are used for observation like customer satisfaction, happiness, etc., but we can’t do any arithmetical tasks on them.\n",
        "Ordinal data is qualitative data for which their values have some kind of relative position. These kinds of data can be considered “in-between” qualitative and quantitative data.\n",
        "The ordinal data only shows the sequences and cannot use for statistical analysis. Compared to nominal data, ordinal data have some kind of order that is not present in nominal data.  \n",
        "\n",
        "Examples of Ordinal Data :\n",
        "When companies ask for feedback, experience, or satisfaction on a scale of 1 to 10 ,\n",
        "Letter grades in the exam (A, B, C, D, etc.) ,\n",
        "Ranking of people in a competition (First, Second, Third, etc.),\n",
        "Economic Status (High, Medium, and Low) ,\n",
        "Education Level (Higher, Secondary, Primary) ,\n",
        "\n",
        "\n",
        "2. **Quantitative Data** -  Quantitative data is a type of data that can be expressed in numerical values, making it countable and including statistical data analysis. These kinds of data are also known as Numerical data.\n",
        "It answers the questions like “how much,” “how many,” and “how often.” For example, the price of a phone, the computer’s ram, the height or weight of a person, etc., falls under quantitative data.\n",
        "\n",
        "Examples of Quantitative Data :\n",
        "Height or weight of a person or object ,\n",
        "Room Temperature ,\n",
        "Scores and Marks (Ex: 59, 80, 60, etc.) ,\n",
        "Time\n",
        "\n",
        "**The Quantitative data are further classified into two parts :**\n",
        "\n",
        "A. Discrete Data :  The discrete data contain the values that fall under integers or whole numbers. The total number of students in a class is an example of discrete data. These data can’t be broken into decimal or fraction values.\n",
        "The discrete data are countable and have finite values; their subdivision is not possible. These data are represented mainly by a bar graph, number line, or frequency table.\n",
        "\n",
        "Examples of Discrete Data :\n",
        "Total numbers of students present in a class ,\n",
        "Cost of a cell phone ,\n",
        "Numbers of employees in a company ,\n",
        "The total number of players who participated in a competition ,\n",
        "Days in a week\n",
        "\n",
        "B. Continuous Data\n",
        "Continuous data are in the form of fractional numbers. It can be the version of an android phone, the height of a person, the length of an object, etc. Continuous data represents information that can be divided into smaller levels. The continuous variable can take any value within a range.\n",
        "continuous data stores the fractional numbers to record different types of data such as temperature, height, width, time, speed, etc."
      ],
      "metadata": {
        "id": "0qg44Y24VCfj"
      }
    },
    {
      "cell_type": "markdown",
      "source": [
        "\n",
        "Interval Scale :\n",
        "An interval scale has equal intervals between values, but no true zero point or absolute zero. Examples:\n",
        "Celsius temperature scale (0°C to 100°C)\n",
        "IQ scores (average = 100)\n",
        "Standardized test scores (e.g., SAT, ACT)\n",
        "\n",
        "Ratio Scale:\n",
        "A ratio scale has equal intervals between values and a true zero point or absolute zero. Examples:\n",
        "Celsius temperature scale (absolute zero = -273.15°C)\n",
        "Weight measurements (0 kg to 100 kg)\n",
        "Time measurements (0 seconds to 3600 seconds)\n",
        "\n",
        "Nominal Scale :\n",
        "\n",
        "A nominal scale assigns labels or categories without any inherent order or quantitative value. Examples:\n",
        "Gender (male/female) ,\n",
        "Blood type (A/B/O/AB) ,\n",
        "Zip codes or postal codes ,\n",
        "\n",
        "Ordinal Scale :\n",
        "\n",
        "An ordinal scale assigns labels or categories with a natural order or ranking, but without equal intervals between values. Examples:\n",
        "Job titles (entry-level, mid-level, senior-level),\n",
        "Education levels (high school, college, graduate degree)"
      ],
      "metadata": {
        "id": "Bn_t0KexVCjp"
      }
    },
    {
      "cell_type": "markdown",
      "source": [
        "\n",
        "\n",
        "---\n",
        "\n"
      ],
      "metadata": {
        "id": "BTICs7VhVCnW"
      }
    },
    {
      "cell_type": "markdown",
      "source": [
        "2. What are the measures of central tendency, and when should you use each? Discuss the mean, median,\n",
        "and mode with examples and situations where each is appropriate\n",
        "\n",
        "---\n",
        "\n",
        "\n",
        "\n"
      ],
      "metadata": {
        "id": "VTSyk0yOVCrE"
      }
    },
    {
      "cell_type": "markdown",
      "source": [
        "A measure of central tendency is a single value that attempts to describe a set of data by identifying the central position within that set of data. As such, measures of central tendency are sometimes called measures of central location. They are also classed as summary statistics. The mean (often called the average) is most likely the measure of central tendency that you are most familiar with, but there are others, such as the median and the mode.\n",
        "\n",
        "For normally distributed data, all three measures of central tendency will give you the same answer so they can all be used.\n",
        "\n",
        "In skewed distributions, the median is the best measure because it is unaffected by extreme outliers or non-symmetric distributions of scores. The mean and mode can vary in skewed distributions.\n",
        "\n",
        "The mode can be used for any level of measurement, but it’s most meaningful for nominal and ordinal levels. The median can only be used on data that can be ordered – that is, from ordinal, interval and ratio levels of measurement. The mean can only be used on interval and ratio levels of measurement because it requires equal spacing between adjacent values or scores in the scale.\n",
        "\n"
      ],
      "metadata": {
        "id": "YULL8ysfVCu1"
      }
    },
    {
      "cell_type": "markdown",
      "source": [
        "\n",
        "\n",
        "**Mean**:\n",
        "\n",
        "Use when:\n",
        "\n",
        "Data is normally distributed (symmetric).\n",
        "All values are equally spaced (interval/ratio scale).\n",
        "You want to include all values in the calculation.\n",
        "\n",
        "Avoid when:\n",
        "\n",
        "Data is skewed (asymmetric).\n",
        "Extreme values/outliers are present.\n",
        "Example: Average reaction time in a psychology study with normally distributed data.\n",
        "\n",
        "**Median**:\n",
        "\n",
        "Use when:\n",
        "\n",
        "Data is skewed or has outliers.\n",
        "You want a more robust measure of central tendency.\n",
        "Data cannot be assumed to be normally distributed.\n",
        "\n",
        "Avoid when:\n",
        "\n",
        "Data is normally distributed and all values are equally spaced.\n",
        "Example: Median salary in a company with a skewed distribution, where most employees earn between $12k and $18k, but a few earn much higher salaries.\n",
        "\n",
        "**Mode:**\n",
        "\n",
        "Use when:\n",
        "\n",
        "Data is categorical or nominal (e.g., political ideology, favorite color).\n",
        "You want to identify the most common category or value.\n",
        "\n",
        "Avoid when:\n",
        "\n",
        "Data is continuous or interval/ratio scaled.\n",
        "Example: Mode of political ideology in a survey, where “Conservative” is the most frequently occurring response."
      ],
      "metadata": {
        "id": "aDBkTyWhVCzQ"
      }
    },
    {
      "cell_type": "markdown",
      "source": [
        "\n",
        "\n",
        "---\n",
        "\n",
        "\n",
        "Mean\n",
        "The arithmetic mean of a dataset (which is different from the geometric mean) is the sum of all values divided by the total number of values. It’s the most commonly used measure of central tendency because all values are used in the calculation.\n",
        "\n"
      ],
      "metadata": {
        "id": "Qdoap-aXVC7Y"
      }
    },
    {
      "cell_type": "code",
      "source": [
        "Participant\t = [1 ,\t2 ,\t3 ,\t4 ,\t5]\n",
        "Reactiontime = [287,345,365,298,380]"
      ],
      "metadata": {
        "id": "jnsxqqxlcI-G"
      },
      "execution_count": null,
      "outputs": []
    },
    {
      "cell_type": "markdown",
      "source": [
        "\n",
        "\n",
        "---\n",
        "\n",
        "\n",
        "Median\n",
        "The median of a dataset is the value that’s exactly in the middle when it is ordered from low to high."
      ],
      "metadata": {
        "id": "S8f3x0jPVC_I"
      }
    },
    {
      "cell_type": "code",
      "source": [
        "#You measure the reaction times of 7 participants on a computer task and categorize them into 3 groups: slow, medium or fast.\n",
        "Participant\t= [1,2,3,4,5,6,7]\n",
        "Speed\t= [ \"Medium\" ,\t\"Slow\"\t,\"Fast\",\t\"Fast\",\t\"Medium\"\t,\"Fast\"\t ,\"Slow\"]"
      ],
      "metadata": {
        "id": "VDqrhBSNdnmq"
      },
      "execution_count": null,
      "outputs": []
    },
    {
      "cell_type": "markdown",
      "source": [
        "To find the median, you first order all values from low to high. Then, you find the value in the middle of the ordered dataset—in this case, the value in the 4th position.\n",
        "\n",
        "Ordered dataset = \tSlow ,\tSlow \t,Medium,\tMedium ,\tFast\t ,Fast ,\tFast\n",
        "\n",
        "Median: Medium"
      ],
      "metadata": {
        "id": "bRxfop8IVDC8"
      }
    },
    {
      "cell_type": "markdown",
      "source": [
        "Median of an odd-numbered dataset\n",
        "For an odd-numbered dataset, find the value that lies at the \\dfrac{(n+1)}{2} position, where n is the number of values in the dataset.\n",
        "\n",
        "Median of an even-numbered dataset\n",
        "For an even-numbered dataset, find the two values in the middle of the dataset: the values at the \\dfrac{n}{2} and (\\dfrac{n}{2})+1 positions."
      ],
      "metadata": {
        "id": "hKB5IneWVDG8"
      }
    },
    {
      "cell_type": "markdown",
      "source": [
        "\n",
        "\n",
        "---\n",
        "\n",
        "\n",
        "Mode\n",
        "The mode is the most frequently occurring value in the dataset. It’s possible to have no mode, one mode, or more than one mode.\n",
        "\n",
        "To find the mode, sort your dataset numerically or categorically and select the response that occurs most frequently.\n",
        "\n",
        "Example: Ratio data with no mode\n",
        "You collect data on reaction times in a computer task, and your dataset contains values that are all different from each other.\n",
        "\n",
        "Participant\t1,\t2 ,\t3 ,\t4 ,\t5 ,\t6\t,7,\t8,\t9\n",
        "\n",
        "Reaction time (milliseconds)\t267\t,345,\t421\t,324\t,401,\t312,\t382,\t298,\t303\n",
        "\n",
        "In this dataset, there is no mode, because each value occurs only once."
      ],
      "metadata": {
        "id": "RzJolhKNVDK4"
      }
    },
    {
      "cell_type": "markdown",
      "source": [
        "\n",
        "\n",
        "---\n",
        "3. Explain the concept of dispersion. How do variance and standard deviation measure the spread of data?\n",
        "\n",
        "---\n",
        "\n",
        "\n"
      ],
      "metadata": {
        "id": "pRinPya8VDRQ"
      }
    },
    {
      "cell_type": "markdown",
      "source": [
        "Dispersion, also known as variability or spread, refers to the extent to which data points are scattered or spread out from their central tendency (mean, median, or mode). It describes how much individual data values deviate from the average value. In other words, dispersion measures the degree to which data is concentrated or dispersed around its central point.\n",
        "\n",
        "Most measures of dispersion have the same units as the quantity being measured. In other words, if the measurements are in metres or seconds, so is the measure of dispersion. Examples of dispersion measures include:\n",
        "\n",
        "Standard deviation,\n",
        "Interquartile range (IQR),\n",
        "Range,\n",
        "Mean absolute difference (also known as Gini mean absolute difference) ,\n",
        "Median absolute deviation (MAD),\n",
        "Average absolute deviation (or simply called average deviation),\n",
        "Distance standard deviation"
      ],
      "metadata": {
        "id": "IN4k8GLUVDUg"
      }
    },
    {
      "cell_type": "markdown",
      "source": [
        "Variance and Standard Deviation\n",
        "\n",
        "Two commonly used measures of dispersion are variance and standard deviation. They quantify the spread of data by calculating the average squared difference between each data point and the mean.\n",
        "\n",
        "Variance: The variance is the average of the squared deviations from the mean. It is calculated as:\n",
        "σ² = (Σ(xi - μ)²) / (n - 1)\n",
        "\n",
        "where σ² is the variance, xi is each data point, μ is the mean, and n is the sample size.\n",
        "\n",
        "Standard Deviation (SD): The standard deviation is the square root of the variance:\n",
        "σ = √σ²\n",
        "\n",
        "The standard deviation represents the spread of the data in the same units as the original data. It provides a more interpretable measure of dispersion than variance, as it is expressed in the same scale as the data."
      ],
      "metadata": {
        "id": "PyCRRrJSVDXm"
      }
    },
    {
      "cell_type": "markdown",
      "source": [
        "\n",
        "\n",
        "---\n",
        "4. What is a box plot, and what can it tell you about the distribution of data?\n",
        "\n",
        "---\n",
        "\n",
        "\n"
      ],
      "metadata": {
        "id": "-6Vapjt6VDei"
      }
    },
    {
      "cell_type": "markdown",
      "source": [
        "A box plot, also known as a box-and-whisker plot, is a graphical representation of a dataset’s distribution. It displays the five-number summary of the data: minimum, first quartile (Q1), median, third quartile (Q3), and maximum. The box itself represents the interquartile range (IQR), which contains 50% of the data. The whiskers, extending from the box, indicate the range of the remaining 50% of the data.\n",
        "\n",
        "\n",
        "\n",
        "**A box plot can provide valuable insights into the distribution of data, including:**\n",
        "\n",
        "Symmetry: A box plot with a median in the middle of the box and roughly equal whisker lengths suggests a symmetric distribution. Conversely, an asymmetric box plot indicates a skewed distribution.\n",
        "\n",
        "Skewness: The direction and extent of the skewness can be inferred from the box plot. A long right whisker (toward the maximum value) indicates positive skewness, while a long left whisker (toward the minimum value) suggests negative skewness.\n",
        "\n",
        "Outliers: Data points beyond the whiskers are considered outliers. A box plot can help identify these unusual values and their magnitudes.\n",
        "\n",
        "Dispersion: The length of the box and whiskers provides a visual representation of the data’s variability or dispersion.\n",
        "\n",
        "Comparison: Box plots can be used to compare the distributions of multiple datasets, allowing for easy identification of similarities and differences.\n",
        "\n",
        "Overall, a box plot is a useful tool for quickly understanding the shape and characteristics of a dataset’s distribution, making it a valuable addition to any data analyst’s toolkit."
      ],
      "metadata": {
        "id": "iO-UiqUbVDkZ"
      }
    },
    {
      "cell_type": "markdown",
      "source": [
        "\n",
        "\n",
        "---\n",
        "\n",
        "5. Discuss the role of random sampling in making inferences about populations.\n",
        "\n",
        "---\n",
        "\n"
      ],
      "metadata": {
        "id": "A3QJqr38VDp-"
      }
    },
    {
      "cell_type": "markdown",
      "source": [
        "Random sampling plays a crucial role in inferential statistics, enabling researchers to make generalizations about a population based on a subset of data, known as a sample. By using random sampling, researchers can minimize bias and ensure that their findings are representative of the larger population.\n",
        "The best way to obtain an unbiased sample is to use random sampling. A random sample is a method of sampling in which each member of the population has an equally good chance of being chosen for the sample. Random sampling does not guarantee a representative sample—nothing short of checking the entire population can guarantee that—but it does make it more likely. Random sampling avoids the biases involved with many other methods of sampling.\n",
        "\n",
        "\n",
        "Probability Sampling :\n",
        "Random sampling falls under the category of probability sampling, which involves selecting samples based on random chance. This approach allows for strong statistical inferences about the whole group, as the sample is representative of the population.\n",
        "\n",
        "In Contrast to Non-Probability Sampling :\n",
        "Non-probability sampling, on the other hand, involves non-random selection based on convenience or other criteria. While this approach may be easier to implement, it can introduce bias and limit the generalizability of findings."
      ],
      "metadata": {
        "id": "qmLdtJa2VDs9"
      }
    },
    {
      "cell_type": "markdown",
      "source": [
        "6 Basic Steps for Simple Random Sampling :\n",
        "\n",
        "Define the population of interest ,\n",
        "Identify the sampling frame (e.g., a list of population members) ,\n",
        "Select a random sample from the sampling frame,\n",
        "Ensure the sample size is sufficient for statistical analysis,\n",
        "Verify the sample is representative of the population,\n",
        "Analyze the sample data to draw inferences about the population"
      ],
      "metadata": {
        "id": "v48mB4-dVDvz"
      }
    },
    {
      "cell_type": "markdown",
      "source": [
        "\n",
        "\n",
        "---\n",
        "\n",
        "6. Explain the concept of skewness and its types. How does skewness affect the interpretation of data?\n",
        "\n",
        "---\n",
        "\n"
      ],
      "metadata": {
        "id": "8fA6YPDWVDyD"
      }
    },
    {
      "cell_type": "markdown",
      "source": [],
      "metadata": {
        "id": "lmxJ_KzHVD2p"
      }
    },
    {
      "cell_type": "markdown",
      "source": [],
      "metadata": {
        "id": "h5D4zJdGVD4_"
      }
    },
    {
      "cell_type": "markdown",
      "source": [],
      "metadata": {
        "id": "gUwc24U7VD7W"
      }
    }
  ]
}